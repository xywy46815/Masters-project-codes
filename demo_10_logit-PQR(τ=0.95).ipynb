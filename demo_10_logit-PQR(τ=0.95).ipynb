{
 "cells": [
  {
   "cell_type": "code",
   "execution_count": 1,
   "id": "524b261f",
   "metadata": {},
   "outputs": [],
   "source": [
    "# 导入库\n",
    "from sklearn.model_selection import train_test_split\n",
    "from sklearn.preprocessing import LabelEncoder\n",
    "import pandas as pd\n",
    "import numpy as np\n",
    "import matplotlib.pyplot as plt\n",
    "from sklearn.linear_model import LogisticRegression\n",
    "import statsmodels.api as sm"
   ]
  },
  {
   "cell_type": "code",
   "execution_count": 2,
   "id": "0982191a",
   "metadata": {},
   "outputs": [],
   "source": [
    "# 导入包含特征、赔付概率和赔付金额的数据集（x, y_prob, y_amount）\n",
    "data = pd.read_csv('C:/Users/taowu/Desktop/项目/保险赔付金额预测（nn-qrnn）/数据/my_data1.csv')  # 导入数据\n",
    "\n",
    "# 创建LabelEncoder对象\n",
    "label_encoder = LabelEncoder()\n",
    "\n",
    "# 对指定列进行标签编码\n",
    "data['veh_body_encoded'] = label_encoder.fit_transform(data['veh_body'])\n",
    "data['area_encoded'] = label_encoder.fit_transform(data['area'])\n",
    "data['amount_per_exposure'] = data['claimcst0'] / data['exposure']\n",
    "\n",
    "# 输入特征和真实y值\n",
    "x = data[['veh_value', 'veh_age', 'agecat', 'gender', 'veh_body_encoded', 'area_encoded']].values\n",
    "y_prob = data[['clm']].values\n",
    "y_amount = data[['amount_per_exposure']].values\n",
    "\n",
    "# 划分训练集和测试集\n",
    "x_train, x_test, y_prob_train, y_prob_test, y_amount_train, y_amount_test = train_test_split(x, y_prob, y_amount,\n",
    "                                                                                             test_size=0.2,\n",
    "                                                                                             random_state=42)"
   ]
  },
  {
   "cell_type": "code",
   "execution_count": 3,
   "id": "4cafc73f",
   "metadata": {},
   "outputs": [],
   "source": [
    "# 定义函数 t(p)\n",
    "def t_function(p, T):\n",
    "    return (T - p) / (1 - p)\n",
    "\n",
    "# 定义 T\n",
    "T = 0.95"
   ]
  },
  {
   "cell_type": "code",
   "execution_count": 10,
   "id": "cb757007",
   "metadata": {
    "scrolled": true
   },
   "outputs": [
    {
     "name": "stdout",
     "output_type": "stream",
     "text": [
      "predictions_A: [0.90717235 0.93355933 0.92080237 ... 0.93550523 0.93560693 0.91975326]\n",
      "t_p_train: [0.46136739 0.24744886 0.36866801 ... 0.22474336 0.22351898 0.37692175]\n",
      "predictions_A_test: [0.92530429 0.93968977 0.93529386 ... 0.9365829  0.94805219 0.92018378]\n",
      "t_p_test: [0.33061749 0.17095327 0.22727576 ... 0.21156915 0.03749555 0.37356089]\n"
     ]
    }
   ],
   "source": [
    "# 将类别标签反转\n",
    "y_prob_train_inverted = 1 - y_prob_train\n",
    "# 使用逻辑回归模型\n",
    "logistic_model = LogisticRegression()\n",
    "# 训练逻辑回归模型\n",
    "logistic_model.fit(x_train, y_prob_train_inverted.squeeze())\n",
    "# 获取训练集逻辑回归模型的预测概率\n",
    "predictions_A_train = logistic_model.predict_proba(x_train)[:, 1]\n",
    "# 计算训练集的 tau\n",
    "t_p_train = t_function(predictions_A_train, T)\n",
    "# 计算测试集的 tau \n",
    "predictions_A_test = logistic_model.predict_proba(x_test)[:, 1]\n",
    "t_p_test = t_function(predictions_A_test, T)\n",
    "# 打印predictions_A、t_p、predictions_A_test、t_p_test\n",
    "print(\"predictions_A:\", predictions_A_train)\n",
    "print(\"t_p_train:\",t_p_train)\n",
    "print(\"predictions_A_test:\", predictions_A_test)\n",
    "print(\"t_p_test:\", t_p_test)"
   ]
  },
  {
   "cell_type": "code",
   "execution_count": null,
   "id": "5ceb3fbd",
   "metadata": {
    "scrolled": true
   },
   "outputs": [],
   "source": []
  }
 ],
 "metadata": {
  "kernelspec": {
   "display_name": "Python 3 (ipykernel)",
   "language": "python",
   "name": "python3"
  },
  "language_info": {
   "codemirror_mode": {
    "name": "ipython",
    "version": 3
   },
   "file_extension": ".py",
   "mimetype": "text/x-python",
   "name": "python",
   "nbconvert_exporter": "python",
   "pygments_lexer": "ipython3",
   "version": "3.11.4"
  }
 },
 "nbformat": 4,
 "nbformat_minor": 5
}
