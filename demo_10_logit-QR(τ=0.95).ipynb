{
 "cells": [
  {
   "cell_type": "code",
   "execution_count": 1,
   "id": "3caa27a0",
   "metadata": {},
   "outputs": [],
   "source": [
    "# 导入库\n",
    "from sklearn.model_selection import train_test_split\n",
    "from sklearn.preprocessing import LabelEncoder\n",
    "import pandas as pd\n",
    "import numpy as np\n",
    "import matplotlib.pyplot as plt\n",
    "from sklearn.linear_model import LogisticRegression\n",
    "import statsmodels.api as sm"
   ]
  },
  {
   "cell_type": "code",
   "execution_count": 2,
   "id": "14d09744",
   "metadata": {},
   "outputs": [],
   "source": [
    "# 导入包含特征、赔付概率和赔付金额的数据集（x, y_prob, y_amount）\n",
    "data = pd.read_csv('C:/Users/taowu/Desktop/项目/保险赔付金额预测（nn-qrnn）/数据/my_data1.csv')  # 导入数据\n",
    "\n",
    "# 创建LabelEncoder对象\n",
    "label_encoder = LabelEncoder()\n",
    "\n",
    "# 对指定列进行标签编码\n",
    "data['veh_body_encoded'] = label_encoder.fit_transform(data['veh_body'])\n",
    "data['area_encoded'] = label_encoder.fit_transform(data['area'])\n",
    "data['amount_per_exposure'] = data['claimcst0'] / data['exposure']\n",
    "\n",
    " \n",
    "# 输入特征和真实y值\n",
    "x = data[['veh_value', 'veh_age', 'agecat', 'gender', 'veh_body_encoded', 'area_encoded']].values\n",
    "y_prob = data[['clm']].values\n",
    "y_amount = data[['amount_per_exposure']].values\n",
    "\n",
    "# 划分训练集和测试集\n",
    "x_train, x_test, y_prob_train, y_prob_test, y_amount_train, y_amount_test = train_test_split(x, y_prob, y_amount,\n",
    "                                                                                             test_size=0.2,\n",
    "                                                                                             random_state=42)"
   ]
  },
  {
   "cell_type": "code",
   "execution_count": 3,
   "id": "aaf20ae2",
   "metadata": {},
   "outputs": [],
   "source": [
    "# 定义函数 t(p)\n",
    "def t_function(p, T):\n",
    "    return (T - p) / (1 - p)\n",
    "\n",
    "# 定义 T\n",
    "T = 0.95"
   ]
  },
  {
   "cell_type": "markdown",
   "id": "c8372395",
   "metadata": {},
   "source": [
    "## 第一步逻辑回归"
   ]
  },
  {
   "cell_type": "code",
   "execution_count": 4,
   "id": "0d4b4e2b",
   "metadata": {},
   "outputs": [
    {
     "name": "stdout",
     "output_type": "stream",
     "text": [
      "predictions_A: [0.90717235 0.93355933 0.92080237 ... 0.93550523 0.93560693 0.91975326]\n",
      "t_p_train: [0.46136739 0.24744886 0.36866801 ... 0.22474336 0.22351898 0.37692175]\n",
      "predictions_A_test: [0.93793721 0.93701997 0.91990481 ... 0.93656565 0.92579991 0.92506096]\n",
      "t_p_test: [0.19436435 0.20609756 0.37574276 ... 0.21178353 0.32614636 0.332791  ]\n"
     ]
    }
   ],
   "source": [
    "# 将类别标签反转\n",
    "y_prob_train_inverted = 1 - y_prob_train\n",
    "# 使用逻辑回归模型\n",
    "logistic_model = LogisticRegression()\n",
    "# 训练逻辑回归模型\n",
    "logistic_model.fit(x_train, y_prob_train_inverted.squeeze())\n",
    "# 获取训练集逻辑回归模型的预测概率\n",
    "predictions_A_train = logistic_model.predict_proba(x_train)[:, 1]\n",
    "\n",
    "# 计算训练集的 tau\n",
    "t_p_train = t_function(predictions_A_train, T)\n",
    "\n",
    "# 计算测试集的 tau \n",
    "# 从训练集中选择与测试集大小相同的样本计算tau而后用训练集的τ计算yhat\n",
    "random_indices = np.random.choice(len(x_train), size=len(x_test), replace=False)\n",
    "x_train_subset = x_train[random_indices] \n",
    "predictions_A_test = logistic_model.predict_proba(x_train_subset)[:, 1]\n",
    "\n",
    "t_p_test = t_function(predictions_A_test, T)\n",
    "# 打印predictions_A、t_p、predictions_A_test、t_p_test\n",
    "print(\"predictions_A:\", predictions_A_train)\n",
    "print(\"t_p_train:\",t_p_train)\n",
    "print(\"predictions_A_test:\", predictions_A_test)\n",
    "print(\"t_p_test:\", t_p_test)"
   ]
  },
  {
   "cell_type": "markdown",
   "id": "b1839d26",
   "metadata": {},
   "source": [
    "## 第一第二步衔接"
   ]
  },
  {
   "cell_type": "code",
   "execution_count": 5,
   "id": "cb836501",
   "metadata": {},
   "outputs": [],
   "source": [
    "# 仅选择赔付额大于0的保单进行第二步分位数回归\n",
    "mask_train = y_amount_train.squeeze() > 0\n",
    "mask_test = y_amount_test.squeeze() > 0\n",
    "\n",
    "# 使用赔付额大于0的保单的 t_p 作为分位数水平\n",
    "t_p_train_selected = t_p_train[mask_train]\n",
    "t_p_test_selected = t_p_test[mask_test]\n",
    "\n",
    "# 选取赔付额大于0的保单的特征和赔付额\n",
    "x_train_selected = x_train[mask_train]\n",
    "y_amount_train_selected = y_amount_train[mask_train]\n",
    "\n",
    "x_test_selected = x_test[mask_test]\n",
    "y_amount_test_selected = y_amount_test[mask_test]\n",
    "\n",
    "# 将 t_p 转为二维列向量 \n",
    "t_p_train_selected = t_p_train_selected.reshape(-1, 1) \n",
    "t_p_test_selected = t_p_test_selected.reshape(-1, 1)\n",
    "\n",
    "# 在特征矩阵中添加常数列\n",
    "x_train_selected_with_const = sm.add_constant(x_train_selected) \n",
    "x_test_selected_with_const = sm.add_constant(x_test_selected)"
   ]
  },
  {
   "cell_type": "code",
   "execution_count": 6,
   "id": "cd1efef9",
   "metadata": {},
   "outputs": [
    {
     "name": "stdout",
     "output_type": "stream",
     "text": [
      "x_train_selected.shape: (3728, 6)\n",
      "y_amount_train_selected.shape: (3728, 1)\n",
      "x_test_selected.shape: (896, 6)\n",
      "y_amount_test_selected.shape: (896, 1)\n",
      "t_p_train_selected.shape: (3728, 1)\n",
      "t_p_test_selected.shape: (896, 1)\n",
      "x_train_selected_with_const.shape: (3728, 7)\n",
      "x_test_selected_with_const.shape: (896, 7)\n",
      "t_p_train_selected range: -0.006284358755090148 0.6363843926692928\n",
      "t_p_test_selected range: -0.021635051590136668 0.5323957353668567\n",
      "Number of zeros in t_p_train_selected: 0\n",
      "Number of zeros in t_p_test_selected: 0\n",
      "Number of negative values in t_p_train_selected: 2\n",
      "Number of negative values in t_p_test_selected: 1\n"
     ]
    }
   ],
   "source": [
    "# 检查\n",
    "# 打印维度\n",
    "print(\"x_train_selected.shape:\", x_train_selected.shape)\n",
    "print(\"y_amount_train_selected.shape:\",y_amount_train_selected.shape)\n",
    "\n",
    "print(\"x_test_selected.shape:\", x_test_selected.shape)\n",
    "print(\"y_amount_test_selected.shape:\", y_amount_test_selected.shape)\n",
    "\n",
    "print(\"t_p_train_selected.shape:\",t_p_train_selected.shape)\n",
    "print(\"t_p_test_selected.shape:\",t_p_test_selected.shape)\n",
    "\n",
    "print(\"x_train_selected_with_const.shape:\",x_train_selected_with_const.shape)\n",
    "print(\"x_test_selected_with_const.shape:\",x_test_selected_with_const.shape)\n",
    "\n",
    "# 打印仅赔付的保单t_p范围\n",
    "print(\"t_p_train_selected range:\", t_p_train_selected.min(), t_p_train_selected.max())\n",
    "print(\"t_p_test_selected range:\", t_p_test_selected.min(), t_p_test_selected.max())\n",
    "\n",
    "# 打印仅赔付保单t_p的0和负值个数\n",
    "zero_count = len(t_p_train_selected) - np.count_nonzero(t_p_train_selected)\n",
    "print(\"Number of zeros in t_p_train_selected:\", zero_count)\n",
    "\n",
    "zero_count = len(t_p_test_selected) - np.count_nonzero(t_p_test_selected)\n",
    "print(\"Number of zeros in t_p_test_selected:\", zero_count)\n",
    "\n",
    "negative_count = np.sum(t_p_train_selected < 0)\n",
    "print(\"Number of negative values in t_p_train_selected:\", negative_count)\n",
    "\n",
    "negative_count = np.sum(t_p_test_selected < 0)\n",
    "print(\"Number of negative values in t_p_test_selected:\", negative_count)"
   ]
  },
  {
   "cell_type": "markdown",
   "id": "0d820432",
   "metadata": {},
   "source": [
    "## 第二步分位数回归"
   ]
  },
  {
   "cell_type": "code",
   "execution_count": 7,
   "id": "c9c508ce",
   "metadata": {
    "scrolled": true
   },
   "outputs": [],
   "source": [
    "# 初始化结果存储\n",
    "y_amount_pred_train = np.zeros_like(y_amount_train_selected)\n",
    "y_amount_pred_test = np.zeros_like(y_amount_test_selected)\n",
    "\n",
    "# 初始化损失存储\n",
    "loss_train = 0.0\n",
    "loss_test = 0.0"
   ]
  },
  {
   "cell_type": "code",
   "execution_count": 8,
   "id": "a642e619",
   "metadata": {},
   "outputs": [],
   "source": [
    "# 循环处理每个保单\n",
    "# 训练集\n",
    "for i in range(len(t_p_train_selected)):\n",
    "    # 将一维数组转换为二维数组 \n",
    "    x_train_i = x_train_selected_with_const[i:i+1, :] \n",
    "    # t_p_train_selected[i] > 0进行分位数回归，否则直接令 y_amount_pred_train为0\n",
    "    if t_p_train_selected[i] > 0:\n",
    "        # 使用分位数回归模型\n",
    "        quantreg = sm.QuantReg(y_amount_train_selected[i: i+1], sm.add_constant(x_train_i))\n",
    "        quantreg_result = quantreg.fit(q=t_p_train_selected[i])\n",
    "        # 预测训练集的赔付金额\n",
    "        y_amount_pred_train[i: i+1] = quantreg_result.predict(sm.add_constant(x_train_i)).reshape(1, -1) \n",
    "    else:\n",
    "        y_amount_pred_train[i: i+1] = np.zeros_like(y_amount_pred_train[i: i+1])  \n",
    "             \n",
    "#测试集\n",
    "for i in range(len(t_p_test_selected)):\n",
    "    # 将一维数组转换为二维数组\n",
    "    x_test_i = x_test_selected_with_const[i:i+1, :]\n",
    "    # t_p_test_selected[i] > 0进行分位数回归，否则直接令 y_amount_pred_test为0\n",
    "    if t_p_test_selected[i] > 0:\n",
    "        # 使用分位数回归模型\n",
    "        quantreg = sm.QuantReg(y_amount_test_selected[i: i+1], sm.add_constant(x_test_i))\n",
    "        quantreg_result = quantreg.fit(q=t_p_test_selected[i])\n",
    "        # 预测测试集的赔付金额\n",
    "        y_amount_pred_test[i: i+1] = quantreg_result.predict(sm.add_constant(x_test_i)).reshape(1, -1)\n",
    "    else:\n",
    "        y_amount_pred_test[i: i+1] = np.zeros_like(y_amount_pred_test[i: i+1])  "
   ]
  },
  {
   "cell_type": "code",
   "execution_count": 11,
   "id": "cd8d44cb",
   "metadata": {},
   "outputs": [
    {
     "name": "stdout",
     "output_type": "stream",
     "text": [
      "Test_mse: 12775153134.805859\n",
      "Test_rmse: 113027.22298104054\n"
     ]
    }
   ],
   "source": [
    "# 计算测试集mse、rmse\n",
    "test_mse = np.mean((y_amount_pred_test - y_amount_test_selected.squeeze())** 2)\n",
    "test_rmse = np.sqrt(test_mse)\n",
    "\n",
    "# 打印结果\n",
    "print(\"Test_mse:\", test_mse)\n",
    "print(\"Test_rmse:\", test_rmse)"
   ]
  }
 ],
 "metadata": {
  "kernelspec": {
   "display_name": "Python 3 (ipykernel)",
   "language": "python",
   "name": "python3"
  },
  "language_info": {
   "codemirror_mode": {
    "name": "ipython",
    "version": 3
   },
   "file_extension": ".py",
   "mimetype": "text/x-python",
   "name": "python",
   "nbconvert_exporter": "python",
   "pygments_lexer": "ipython3",
   "version": "3.11.4"
  }
 },
 "nbformat": 4,
 "nbformat_minor": 5
}
